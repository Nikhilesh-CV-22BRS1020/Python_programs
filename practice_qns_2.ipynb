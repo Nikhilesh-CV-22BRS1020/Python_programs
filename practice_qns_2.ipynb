{
 "cells": [
  {
   "cell_type": "code",
   "execution_count": 2,
   "id": "14ce5b47",
   "metadata": {},
   "outputs": [
    {
     "name": "stdout",
     "output_type": "stream",
     "text": [
      "hi\n"
     ]
    }
   ],
   "source": [
    "# A.1\n",
    "num1=int(input())\n",
    "num2=int(input())\n",
    "sum=num1+num2\n",
    "print(sum)"
   ]
  },
  {
   "cell_type": "code",
   "execution_count": null,
   "id": "0bdbbe3c",
   "metadata": {},
   "outputs": [],
   "source": [
    "# A.2\n",
    "base=int(input())\n",
    "height=int(input())\n",
    "area=1/2*(base*height)\n",
    "print(area)"
   ]
  },
  {
   "cell_type": "code",
   "execution_count": null,
   "id": "16e1d253",
   "metadata": {},
   "outputs": [],
   "source": [
    "# A.3\n",
    "import math\n",
    "num=int(input())\n",
    "sq_root=math.sqrt(num)\n",
    "print(sq_root)"
   ]
  },
  {
   "cell_type": "code",
   "execution_count": null,
   "id": "8108f0d3",
   "metadata": {},
   "outputs": [],
   "source": [
    "# A.4\n",
    "import math\n",
    "coeff_a=int(input())\n",
    "coeff_b=int(input())\n",
    "coeff_c=int(input())\n",
    "if coeff_b**2-(4*coeff_a*coeff_c):\n",
    "    root1=((-coeff_b)-math.sqrt(coeff_b**2-(4*coeff_a*coeff_c)))/(2*coeff_a)\n",
    "    root2=((-coeff_b)+math.sqrt(coeff_b**2-(4*coeff_a*coeff_c)))/(2*coeff_a)\n",
    "    print(root1,root2)\n",
    "else:\n",
    "    print('No real roots')"
   ]
  },
  {
   "cell_type": "code",
   "execution_count": null,
   "id": "c422e0f5",
   "metadata": {},
   "outputs": [],
   "source": [
    "# A.5\n",
    "far=int(input())\n",
    "cel=((far-32)*5)/9\n",
    "print(cel)"
   ]
  },
  {
   "cell_type": "code",
   "execution_count": null,
   "id": "e2e84ffc",
   "metadata": {},
   "outputs": [],
   "source": [
    "# A.6\n",
    "dividend=int(input())\n",
    "divisor=int(input())\n",
    "quo=dividend//divisor\n",
    "rem=dividend%divisor\n",
    "print('Quotient is',quo)\n",
    "print('Reminder is',rem)"
   ]
  },
  {
   "cell_type": "code",
   "execution_count": null,
   "id": "1028d63c",
   "metadata": {},
   "outputs": [],
   "source": [
    "# A.7\n",
    "a=int(input())\n",
    "b=int(input())\n",
    "tup1=(a,b)\n",
    "b,a=tup1\n",
    "print('a=',a)\n",
    "print('b=',b)"
   ]
  },
  {
   "cell_type": "code",
   "execution_count": null,
   "id": "9aa599b0",
   "metadata": {},
   "outputs": [],
   "source": [
    "# A.8\n",
    "mark1=int(input())\n",
    "mark2=int(input())\n",
    "mark2=int(input())\n",
    "avg=(mark1+mark2+mark3)/3\n",
    "print(avg)"
   ]
  },
  {
   "cell_type": "code",
   "execution_count": null,
   "id": "ef79839b",
   "metadata": {},
   "outputs": [],
   "source": [
    "# A.9\n",
    "principal=int(input())\n",
    "time=int(input())\n",
    "interest=int(input())\n",
    "si=(principal*rate*interest)/100\n",
    "print(si)"
   ]
  },
  {
   "cell_type": "code",
   "execution_count": null,
   "id": "9fa366d0",
   "metadata": {},
   "outputs": [],
   "source": [
    "# A.10\n",
    "basic=int(input())\n",
    "hra=int(input())\n",
    "da=int(input())\n",
    "deduc=int(input())\n",
    "netsal=basic+hra+da-deduc\n",
    "print(netsal)"
   ]
  },
  {
   "cell_type": "code",
   "execution_count": null,
   "id": "97028336",
   "metadata": {},
   "outputs": [],
   "source": []
  },
  {
   "cell_type": "code",
   "execution_count": null,
   "id": "20841c03",
   "metadata": {},
   "outputs": [],
   "source": [
    "# B.1\n",
    "age=int(input())\n",
    "if age>18:\n",
    "    print('Eligible to vote')\n",
    "else:\n",
    "    print('Not eligible to vote')"
   ]
  },
  {
   "cell_type": "code",
   "execution_count": null,
   "id": "b59f4672",
   "metadata": {},
   "outputs": [],
   "source": [
    "# B.2\n",
    "num=int(input())\n",
    "if num%2==0:\n",
    "    print('Number is even')\n",
    "else:\n",
    "    print('Number is odd')"
   ]
  },
  {
   "cell_type": "code",
   "execution_count": null,
   "id": "8d69f2b4",
   "metadata": {},
   "outputs": [],
   "source": [
    "# B.3\n",
    "num1=int(input())\n",
    "num2=int(input())\n",
    "if num1>num2:\n",
    "    print(num1)\n",
    "else:\n",
    "    print(num2)"
   ]
  },
  {
   "cell_type": "code",
   "execution_count": null,
   "id": "874b59ba",
   "metadata": {},
   "outputs": [],
   "source": [
    "# B.4\n",
    "char=input()\n",
    "new=''\n",
    "for i in char:\n",
    "    if i.isupper():\n",
    "        new+=char.lower()\n",
    "    else:\n",
    "        new+=char.upper()\n",
    "print(new)"
   ]
  },
  {
   "cell_type": "code",
   "execution_count": null,
   "id": "4728833e",
   "metadata": {},
   "outputs": [],
   "source": [
    "# B.5\n",
    "year=int(input())\n",
    "if year%100==0 and year%400==0:\n",
    "    print('Leap year')\n",
    "else:\n",
    "    if year%4==0 and year%100!=0:\n",
    "        print('Leap year')\n",
    "    else:\n",
    "        print('Not a leap year')"
   ]
  },
  {
   "cell_type": "code",
   "execution_count": null,
   "id": "ae85ca33",
   "metadata": {},
   "outputs": [],
   "source": [
    "# B.6\n",
    "num=int(input())\n",
    "if num>0:\n",
    "    num+=1\n",
    "elif num<0:\n",
    "    num-=1\n",
    "else:\n",
    "    pass\n",
    "print(num)"
   ]
  },
  {
   "cell_type": "code",
   "execution_count": null,
   "id": "ee5f400a",
   "metadata": {},
   "outputs": [],
   "source": [
    "# B.7\n",
    "num1=int(input())\n",
    "num2=int(input())\n",
    "operand=input()\n",
    "ans=0\n",
    "if operand=='+':\n",
    "    ans=num1+num2\n",
    "elif operand=='-':\n",
    "    ans=num1-num2\n",
    "elif operand=='*':\n",
    "    ans=num1*num2\n",
    "elif operand=='/':\n",
    "    if num2!=0:\n",
    "        ans=num1/num2\n",
    "    else:\n",
    "        print('Cant divide by zero')\n",
    "else:\n",
    "    print('Operation not supported')\n",
    "print(num1,operand,num2,ans)"
   ]
  },
  {
   "cell_type": "code",
   "execution_count": null,
   "id": "1ba8f4e4",
   "metadata": {},
   "outputs": [],
   "source": [
    "# B.8\n",
    "marks=int(input())\n",
    "grade=''\n",
    "if marks=100:\n",
    "    grade='S'\n",
    "elif marks>90 and marks<100:\n",
    "    grade='A'\n",
    "elif marks>80 and marks<90:\n",
    "    grade='B'\n",
    "elif marks>70 and marks<80:\n",
    "    grade='C'\n",
    "elif marks>60 and marks<70:\n",
    "    grade='D'\n",
    "elif marks>50 and marks<60:\n",
    "    grade='E'\n",
    "else:\n",
    "    grade='F'\n",
    "print(grade)"
   ]
  },
  {
   "cell_type": "code",
   "execution_count": null,
   "id": "4b3fc729",
   "metadata": {},
   "outputs": [],
   "source": [
    "# B.9\n",
    "num1=int(input())\n",
    "num2=int(input())\n",
    "num3=int(input())\n",
    "if num1>num2 and num1>num3:\n",
    "    print(num1)\n",
    "elif num2>num1 and num2>num3:\n",
    "    print(num2)\n",
    "else:\n",
    "    print(num3)"
   ]
  },
  {
   "cell_type": "code",
   "execution_count": null,
   "id": "a4933ca5",
   "metadata": {},
   "outputs": [],
   "source": [
    "# B.10\n",
    "char=input()\n",
    "if char.isupper():\n",
    "    print('uppercase')\n",
    "elif char.islower():\n",
    "    print('lowercase')\n",
    "elif char.isdigit():\n",
    "    print('digit')"
   ]
  },
  {
   "cell_type": "code",
   "execution_count": null,
   "id": "d26133e9",
   "metadata": {},
   "outputs": [],
   "source": []
  },
  {
   "cell_type": "code",
   "execution_count": null,
   "id": "676151e8",
   "metadata": {},
   "outputs": [],
   "source": [
    "# C.1\n",
    "num=int(input())\n",
    "if num%2==0:\n",
    "    print('Even')\n",
    "else:\n",
    "    print('Odd')"
   ]
  },
  {
   "cell_type": "code",
   "execution_count": null,
   "id": "21eb16d7",
   "metadata": {},
   "outputs": [],
   "source": [
    "# C.2\n",
    "num1=int(input())\n",
    "num2=int(input())\n",
    "if num1>num2:\n",
    "    print(num1)\n",
    "else:\n",
    "    print(num2)"
   ]
  },
  {
   "cell_type": "code",
   "execution_count": null,
   "id": "1b763d00",
   "metadata": {},
   "outputs": [],
   "source": [
    "# C.3\n",
    "char=input()\n",
    "new=''\n",
    "for i in char:\n",
    "    if i.isupper():\n",
    "        new+=char.lower()\n",
    "    else:\n",
    "        new+=char.upper()\n",
    "print(new)"
   ]
  },
  {
   "cell_type": "code",
   "execution_count": null,
   "id": "e90d8e5b",
   "metadata": {},
   "outputs": [],
   "source": [
    "# C.4\n",
    "num=int(input())\n",
    "if num%5==0 and num%7==0:\n",
    "    print('Divisible by both 5 and 7')\n",
    "else:\n",
    "    print('Not Divisible by both 5 and 7')"
   ]
  },
  {
   "cell_type": "code",
   "execution_count": null,
   "id": "49fd956b",
   "metadata": {},
   "outputs": [],
   "source": [
    "# C.5\n",
    "year=int(input())\n",
    "if year%100==0 and year%400==0:\n",
    "    print('Leap year')\n",
    "else:\n",
    "    if year%4==0 and year%100!=0:\n",
    "        print('Leap year')\n",
    "    else:\n",
    "        print('Not a leap year')"
   ]
  },
  {
   "cell_type": "code",
   "execution_count": null,
   "id": "258d7caf",
   "metadata": {},
   "outputs": [],
   "source": [
    "# C.6\n",
    "a=int(input())\n",
    "b=int(input())\n",
    "c=int(input())\n",
    "if a==b and b==c and c==a:\n",
    "    print('Equilateral triangle')\n",
    "elif a==b or b==c or c==a:\n",
    "    print('Isosceles triangle')\n",
    "elif a!=b and a!=c and b!=c:\n",
    "    print('Scalene triangle')\n",
    "else:\n",
    "    print('None of the above')"
   ]
  },
  {
   "cell_type": "code",
   "execution_count": null,
   "id": "8db58107",
   "metadata": {},
   "outputs": [],
   "source": [
    "# C.7\n",
    "a=int(input())\n",
    "b=int(input())\n",
    "c=int(input())\n",
    "if (c**2)==(a**2)+(b**2):\n",
    "    print('Right angled triangle')\n",
    "else:\n",
    "    print('Not Right angled triangle')"
   ]
  },
  {
   "cell_type": "code",
   "execution_count": null,
   "id": "e6c1e935",
   "metadata": {},
   "outputs": [],
   "source": [
    "# C.8\n",
    "num=int(input())\n",
    "if num>0:\n",
    "    num+=1\n",
    "elif num<0:\n",
    "    num-=1\n",
    "else:\n",
    "    pass\n",
    "print(num)"
   ]
  },
  {
   "cell_type": "code",
   "execution_count": null,
   "id": "6a06a796",
   "metadata": {},
   "outputs": [],
   "source": [
    "# C.9\n",
    "num1=int(input())\n",
    "num2=int(input())\n",
    "operand=input()\n",
    "ans=0\n",
    "if operand=='+':\n",
    "    ans=num1+num2\n",
    "elif operand=='-':\n",
    "    ans=num1-num2\n",
    "elif operand=='*':\n",
    "    ans=num1*num2\n",
    "elif operand=='/':\n",
    "    if num2!=0:\n",
    "        ans=num1/num2\n",
    "    else:\n",
    "        print('Cant divide by zero')\n",
    "else:\n",
    "    print('Operation not supported')\n",
    "print(num1,operand,num2,ans)"
   ]
  },
  {
   "cell_type": "code",
   "execution_count": null,
   "id": "3fed0b23",
   "metadata": {},
   "outputs": [],
   "source": [
    "# C.10\n",
    "marks=int(input())\n",
    "grade=''\n",
    "if marks=100:\n",
    "    grade='S'\n",
    "elif marks>90 and marks<100:\n",
    "    grade='A'\n",
    "elif marks>80 and marks<90:\n",
    "    grade='B'\n",
    "elif marks>70 and marks<80:\n",
    "    grade='C'\n",
    "elif marks>60 and marks<70:\n",
    "    grade='D'\n",
    "elif marks>50 and marks<60:\n",
    "    grade='E'\n",
    "else:\n",
    "    grade='F'\n",
    "print(grade)"
   ]
  },
  {
   "cell_type": "code",
   "execution_count": null,
   "id": "76b6e717",
   "metadata": {},
   "outputs": [],
   "source": [
    "# C.11\n",
    "char=input()\n",
    "if char.isupper():\n",
    "    print('uppercase')\n",
    "elif char.islower():\n",
    "    print('lowercase')\n",
    "elif char.isdigit():\n",
    "    print('digit')"
   ]
  },
  {
   "cell_type": "code",
   "execution_count": null,
   "id": "0cb3b8f4",
   "metadata": {},
   "outputs": [],
   "source": [
    "# C.12\n",
    "num1=int(input())\n",
    "num2=int(input())\n",
    "num3=int(input())\n",
    "if num1>num2 and num1>num3:\n",
    "    print(num1)\n",
    "elif num2>num1 and num2>num3:\n",
    "    print(num2)\n",
    "else:\n",
    "    print(num3)"
   ]
  },
  {
   "cell_type": "code",
   "execution_count": 7,
   "id": "66b90b8d",
   "metadata": {},
   "outputs": [
    {
     "name": "stdout",
     "output_type": "stream",
     "text": [
      "5\n",
      "int\n"
     ]
    }
   ],
   "source": [
    "# C.13\n",
    "inp=eval(input())\n",
    "chr_type=type(inp)\n",
    "chr_type=str(chr_type)\n",
    "print(chr_type[8:-2])"
   ]
  },
  {
   "cell_type": "code",
   "execution_count": null,
   "id": "043ad733",
   "metadata": {},
   "outputs": [],
   "source": []
  },
  {
   "cell_type": "code",
   "execution_count": null,
   "id": "b2940051",
   "metadata": {},
   "outputs": [],
   "source": [
    "# D.1\n",
    "num=int(input())\n",
    "power=int(input())\n",
    "count=0\n",
    "ans=1\n",
    "while count<power:\n",
    "    ans*=num\n",
    "    count+=1\n",
    "print(ans)"
   ]
  },
  {
   "cell_type": "code",
   "execution_count": null,
   "id": "ed39128a",
   "metadata": {},
   "outputs": [],
   "source": [
    "# D.2\n",
    "num=10\n",
    "while num>9 and num<100:\n",
    "    if num%3==0 or num%4==0:\n",
    "        print(num)\n",
    "    num+=1"
   ]
  },
  {
   "cell_type": "code",
   "execution_count": null,
   "id": "7fe32616",
   "metadata": {},
   "outputs": [],
   "source": [
    "# D.3\n",
    "num=int(input())\n",
    "sums=0\n",
    "while num>0:\n",
    "    a=num%10\n",
    "    num=num//10\n",
    "    sum+=a\n",
    "print(sums)"
   ]
  },
  {
   "cell_type": "code",
   "execution_count": null,
   "id": "689540a5",
   "metadata": {},
   "outputs": [],
   "source": [
    "# D.4\n",
    "divisor=int(input())\n",
    "dividend=int(input())\n",
    "quo=0\n",
    "while True:\n",
    "    if dividend>divisor:\n",
    "        dividend-=divisor\n",
    "        quo+=1\n",
    "    else:\n",
    "        print(dividend)\n",
    "        break"
   ]
  },
  {
   "cell_type": "code",
   "execution_count": null,
   "id": "d79614f3",
   "metadata": {},
   "outputs": [],
   "source": [
    "# D.5\n",
    "num=int(input())\n",
    "copy=num\n",
    "rev_num=0\n",
    "while num>0:\n",
    "    rem=num%10\n",
    "    rev_num=rev_num*10+rem\n",
    "    num=num//10\n",
    "if copy==rev_num:\n",
    "    print('Palindrome')\n",
    "else:\n",
    "    print('Not Palindrome')"
   ]
  },
  {
   "cell_type": "code",
   "execution_count": null,
   "id": "8996ccfb",
   "metadata": {},
   "outputs": [],
   "source": [
    "# D.6\n",
    "num=int(input())\n",
    "pow=len(str(num))\n",
    "copy=num\n",
    "sum=0\n",
    "while num>0:\n",
    "    a=num%10\n",
    "    sum+=a**pow\n",
    "    num=num//10\n",
    "if copy==sum:\n",
    "    print('Armstrong number')\n",
    "else:\n",
    "    print('Not Armstrong number')"
   ]
  },
  {
   "cell_type": "code",
   "execution_count": null,
   "id": "0cb7a63d",
   "metadata": {},
   "outputs": [],
   "source": [
    "# D.7\n",
    "num1=int(input())\n",
    "num2=int(input())\n",
    "while num2:\n",
    "    num1,num2=num2,num1%num2\n",
    "print(num1)"
   ]
  },
  {
   "cell_type": "code",
   "execution_count": null,
   "id": "f6bbafbe",
   "metadata": {},
   "outputs": [],
   "source": [
    "# D.8\n",
    "sums=0\n",
    "prod=1\n",
    "while True:\n",
    "    print('press \\'q\\' to quit')\n",
    "    inp=input()\n",
    "    if inp=='q':\n",
    "        break\n",
    "    else:\n",
    "        sums+=int(inp)\n",
    "        prod*=int(inp)\n",
    "avg=sums/len(str(sums))\n",
    "print(avg)\n",
    "print(prod)"
   ]
  },
  {
   "cell_type": "code",
   "execution_count": null,
   "id": "781b8898",
   "metadata": {},
   "outputs": [],
   "source": [
    "# D.9\n",
    "num=int(input())\n",
    "accuracy=float(input())\n",
    "x=num\n",
    "while True:\n",
    "    root=0.5*(x+(num/x))\n",
    "    if abs(root-x)<accuracy:\n",
    "        break\n",
    "    else:\n",
    "        x=root\n",
    "sq_root=round(root,len(str(accuracy))-2)\n",
    "print(sq_root)"
   ]
  },
  {
   "cell_type": "code",
   "execution_count": null,
   "id": "7ec2e91c",
   "metadata": {},
   "outputs": [],
   "source": []
  },
  {
   "cell_type": "code",
   "execution_count": 2,
   "id": "5c2be4e1",
   "metadata": {},
   "outputs": [
    {
     "name": "stdout",
     "output_type": "stream",
     "text": [
      "* \n",
      "* * \n",
      "* * * \n",
      "* * * * \n",
      "* * * * * \n",
      "* * * * \n",
      "* * * \n",
      "* * \n",
      "* \n"
     ]
    }
   ],
   "source": [
    "# E.1a\n",
    "for i in range(1,6):\n",
    "    for j in range(i):\n",
    "        print('*',end=' ')\n",
    "    print()\n",
    "for i in range(4,0,-1):\n",
    "    for j in range(i):\n",
    "        print('*',end=' ')\n",
    "    print()"
   ]
  },
  {
   "cell_type": "code",
   "execution_count": 12,
   "id": "6bd2770f",
   "metadata": {},
   "outputs": [
    {
     "name": "stdout",
     "output_type": "stream",
     "text": [
      "1 \n",
      "2 1 \n",
      "3 2 1 \n",
      "4 3 2 1 \n",
      "5 4 3 2 1 \n"
     ]
    }
   ],
   "source": [
    "# E.1b\n",
    "for i in range(1,6):\n",
    "    num=i\n",
    "    for j in range(i):\n",
    "        print(num-j,end=' ')\n",
    "    print()"
   ]
  },
  {
   "cell_type": "code",
   "execution_count": 16,
   "id": "160e3792",
   "metadata": {},
   "outputs": [
    {
     "name": "stdout",
     "output_type": "stream",
     "text": [
      "      1 \n",
      "     1 1 \n",
      "    1 2 1 \n",
      "   1 3 3 1 \n",
      "  1 4 6 4 1 \n",
      " 1 5 10 10 5 1 \n",
      "1 6 15 20 15 6 1 \n"
     ]
    }
   ],
   "source": [
    "# E.1c\n",
    "for i in range(1,8):\n",
    "    for j in range(7-i):\n",
    "        print(end=' ')\n",
    "    x=1\n",
    "    for j in range(1,i+1):\n",
    "        print(x,end=' ')\n",
    "        x=x*(i-j)//j\n",
    "    print()"
   ]
  },
  {
   "cell_type": "code",
   "execution_count": 18,
   "id": "abbac5a8",
   "metadata": {},
   "outputs": [
    {
     "name": "stdout",
     "output_type": "stream",
     "text": [
      "hello\n",
      "olleh\n"
     ]
    }
   ],
   "source": [
    "# E.2\n",
    "word=input()\n",
    "rev=''\n",
    "for i in range(len(word),0,-1):\n",
    "    rev+=word[i-1]\n",
    "print(rev)"
   ]
  },
  {
   "cell_type": "code",
   "execution_count": null,
   "id": "0e2d0f1c",
   "metadata": {},
   "outputs": [],
   "source": [
    "# E.3\n",
    "numbers=(1,2,3,4,5,6,7,8,9)\n",
    "evencount=0\n",
    "oddcount=0\n",
    "for i in numbers:\n",
    "    if i%2==0:\n",
    "        evencount+=1\n",
    "    else:\n",
    "        oddcount+=1\n",
    "print(evencount)\n",
    "print(oddcount)"
   ]
  },
  {
   "cell_type": "code",
   "execution_count": 19,
   "id": "38400d01",
   "metadata": {},
   "outputs": [
    {
     "name": "stdout",
     "output_type": "stream",
     "text": [
      "<class 'int'>\n",
      "<class 'float'>\n",
      "<class 'complex'>\n",
      "<class 'bool'>\n",
      "<class 'str'>\n",
      "<class 'tuple'>\n",
      "<class 'list'>\n",
      "<class 'dict'>\n"
     ]
    }
   ],
   "source": [
    "# E.4\n",
    "datalist=[1452,11.23,1+2j,True,'w3resource',(0,-1),[5,12],{'class':'V','section':'A'}]\n",
    "for i in datalist:\n",
    "    print(type(i))"
   ]
  },
  {
   "cell_type": "code",
   "execution_count": null,
   "id": "1af94f27",
   "metadata": {},
   "outputs": [],
   "source": [
    "# E.5\n",
    "for i in range(7):\n",
    "    if i==3 or i==6:\n",
    "        continue\n",
    "    else:\n",
    "        print(i)"
   ]
  },
  {
   "cell_type": "code",
   "execution_count": null,
   "id": "925adb35",
   "metadata": {},
   "outputs": [],
   "source": [
    "# E.6\n",
    "for i in range (1,51):\n",
    "    if i%3==0 and i%5!=0:\n",
    "        print('Fizz')\n",
    "    elif i83!=0 and i85==0:\n",
    "        print('Buzz')\n",
    "    elif i%3==0 and i%5==0:\n",
    "        print('FizzBuzz')"
   ]
  },
  {
   "cell_type": "code",
   "execution_count": 22,
   "id": "f8216207",
   "metadata": {},
   "outputs": [],
   "source": [
    "# E.7\n",
    "for i in range(100,401):\n",
    "    count=0\n",
    "    num=i\n",
    "    while num>0:\n",
    "        rem=num%10\n",
    "        num=num//10\n",
    "        if rem%2==0:\n",
    "            count+=1\n",
    "    if count==3:\n",
    "        print(i)"
   ]
  },
  {
   "cell_type": "code",
   "execution_count": null,
   "id": "cf7126ac",
   "metadata": {},
   "outputs": [],
   "source": [
    "# E.8\n",
    "num=int(input())\n",
    "for i in range (1,n+1):\n",
    "    print (num, 'x', i, '=', num*i)"
   ]
  },
  {
   "cell_type": "code",
   "execution_count": null,
   "id": "6a965141",
   "metadata": {},
   "outputs": [],
   "source": [
    "# E.9a\n",
    "n=int(input())\n",
    "sum=0\n",
    "for i in range (1,n+1):\n",
    "    sum+=1/(i)\n",
    "print (sum)"
   ]
  },
  {
   "cell_type": "code",
   "execution_count": null,
   "id": "7c0e8073",
   "metadata": {},
   "outputs": [],
   "source": [
    "# E.9b\n",
    "n=int(input())\n",
    "x=int(input())\n",
    "sum=0\n",
    "temp=0\n",
    "for i in range (1,n+1):\n",
    "    sum+=(x**temp)/(i)\n",
    "    temp=i\n",
    "print (sum)"
   ]
  },
  {
   "cell_type": "code",
   "execution_count": null,
   "id": "9addc6d0",
   "metadata": {},
   "outputs": [],
   "source": [
    "# E.10\n",
    "num=int(input())\n",
    "count=0\n",
    "for i in range(2,num):\n",
    "    if num%i==0:\n",
    "        count=1\n",
    "if count=1:\n",
    "    print('Composite number')\n",
    "else:\n",
    "    print('Prime number')"
   ]
  }
 ],
 "metadata": {
  "kernelspec": {
   "display_name": "Python 3 (ipykernel)",
   "language": "python",
   "name": "python3"
  },
  "language_info": {
   "codemirror_mode": {
    "name": "ipython",
    "version": 3
   },
   "file_extension": ".py",
   "mimetype": "text/x-python",
   "name": "python",
   "nbconvert_exporter": "python",
   "pygments_lexer": "ipython3",
   "version": "3.9.0"
  }
 },
 "nbformat": 4,
 "nbformat_minor": 5
}
