{
 "cells": [
  {
   "cell_type": "code",
   "execution_count": 1,
   "id": "14ce5b47",
   "metadata": {},
   "outputs": [
    {
     "name": "stdout",
     "output_type": "stream",
     "text": [
      "2\n",
      "3\n",
      "5\n"
     ]
    }
   ],
   "source": [
    "# A.1\n",
    "num1=int(input())\n",
    "num2=int(input())\n",
    "sum=num1+num2\n",
    "print(sum)"
   ]
  },
  {
   "cell_type": "code",
   "execution_count": 2,
   "id": "0bdbbe3c",
   "metadata": {},
   "outputs": [
    {
     "name": "stdout",
     "output_type": "stream",
     "text": [
      "5\n",
      "2\n",
      "5.0\n"
     ]
    }
   ],
   "source": [
    "# A.2\n",
    "base=int(input())\n",
    "height=int(input())\n",
    "area=1/2*(base*height)\n",
    "print(area)"
   ]
  },
  {
   "cell_type": "code",
   "execution_count": 3,
   "id": "16e1d253",
   "metadata": {},
   "outputs": [
    {
     "name": "stdout",
     "output_type": "stream",
     "text": [
      "25\n",
      "5.0\n"
     ]
    }
   ],
   "source": [
    "# A.3\n",
    "import math\n",
    "num=int(input())\n",
    "sq_root=math.sqrt(num)\n",
    "print(sq_root)"
   ]
  },
  {
   "cell_type": "code",
   "execution_count": 5,
   "id": "8108f0d3",
   "metadata": {},
   "outputs": [
    {
     "name": "stdout",
     "output_type": "stream",
     "text": [
      "2\n",
      "1\n",
      "2\n",
      "No real roots\n"
     ]
    }
   ],
   "source": [
    "# A.4\n",
    "import math\n",
    "coeff_a=int(input())\n",
    "coeff_b=int(input())\n",
    "coeff_c=int(input())\n",
    "if coeff_b**2-(4*coeff_a*coeff_c)>0:\n",
    "    root1=((-coeff_b)-math.sqrt(coeff_b**2-(4*coeff_a*coeff_c)))/(2*coeff_a)\n",
    "    root2=((-coeff_b)+math.sqrt(coeff_b**2-(4*coeff_a*coeff_c)))/(2*coeff_a)\n",
    "    print(root1,root2)\n",
    "else:\n",
    "    print('No real roots')"
   ]
  },
  {
   "cell_type": "code",
   "execution_count": 6,
   "id": "c422e0f5",
   "metadata": {},
   "outputs": [
    {
     "name": "stdout",
     "output_type": "stream",
     "text": [
      "32\n",
      "0.0\n"
     ]
    }
   ],
   "source": [
    "# A.5\n",
    "far=int(input())\n",
    "cel=((far-32)*5)/9\n",
    "print(cel)"
   ]
  },
  {
   "cell_type": "code",
   "execution_count": 7,
   "id": "e2e84ffc",
   "metadata": {},
   "outputs": [
    {
     "name": "stdout",
     "output_type": "stream",
     "text": [
      "48\n",
      "12\n",
      "Quotient is 4\n",
      "Reminder is 0\n"
     ]
    }
   ],
   "source": [
    "# A.6\n",
    "dividend=int(input())\n",
    "divisor=int(input())\n",
    "quo=dividend//divisor\n",
    "rem=dividend%divisor\n",
    "print('Quotient is',quo)\n",
    "print('Reminder is',rem)"
   ]
  },
  {
   "cell_type": "code",
   "execution_count": 8,
   "id": "1028d63c",
   "metadata": {},
   "outputs": [
    {
     "name": "stdout",
     "output_type": "stream",
     "text": [
      "1\n",
      "2\n",
      "a= 2\n",
      "b= 1\n"
     ]
    }
   ],
   "source": [
    "# A.7\n",
    "a=int(input())\n",
    "b=int(input())\n",
    "tup1=(a,b)\n",
    "b,a=tup1\n",
    "print('a=',a)\n",
    "print('b=',b)"
   ]
  },
  {
   "cell_type": "code",
   "execution_count": 10,
   "id": "9aa599b0",
   "metadata": {},
   "outputs": [
    {
     "name": "stdout",
     "output_type": "stream",
     "text": [
      "1\n",
      "2\n",
      "3\n",
      "2.0\n"
     ]
    }
   ],
   "source": [
    "# A.8\n",
    "mark1=int(input())\n",
    "mark2=int(input())\n",
    "mark3=int(input())\n",
    "avg=(mark1+mark2+mark3)/3\n",
    "print(avg)"
   ]
  },
  {
   "cell_type": "code",
   "execution_count": 12,
   "id": "ef79839b",
   "metadata": {},
   "outputs": [
    {
     "name": "stdout",
     "output_type": "stream",
     "text": [
      "2000\n",
      "2\n",
      "5\n",
      "200.0\n"
     ]
    }
   ],
   "source": [
    "# A.9\n",
    "principal=int(input())\n",
    "time=int(input())\n",
    "interest=int(input())\n",
    "si=(principal*time*interest)/100\n",
    "print(si)"
   ]
  },
  {
   "cell_type": "code",
   "execution_count": 13,
   "id": "9fa366d0",
   "metadata": {},
   "outputs": [
    {
     "name": "stdout",
     "output_type": "stream",
     "text": [
      "50000\n",
      "1000\n",
      "3000\n",
      "4000\n",
      "50000\n"
     ]
    }
   ],
   "source": [
    "# A.10\n",
    "basic=int(input())\n",
    "hra=int(input())\n",
    "da=int(input())\n",
    "deduc=int(input())\n",
    "netsal=basic+hra+da-deduc\n",
    "print(netsal)"
   ]
  },
  {
   "cell_type": "code",
   "execution_count": null,
   "id": "97028336",
   "metadata": {},
   "outputs": [],
   "source": []
  },
  {
   "cell_type": "code",
   "execution_count": 14,
   "id": "20841c03",
   "metadata": {},
   "outputs": [
    {
     "name": "stdout",
     "output_type": "stream",
     "text": [
      "23\n",
      "Eligible to vote\n"
     ]
    }
   ],
   "source": [
    "# B.1\n",
    "age=int(input())\n",
    "if age>18:\n",
    "    print('Eligible to vote')\n",
    "else:\n",
    "    print('Not eligible to vote')"
   ]
  },
  {
   "cell_type": "code",
   "execution_count": 15,
   "id": "b59f4672",
   "metadata": {},
   "outputs": [
    {
     "name": "stdout",
     "output_type": "stream",
     "text": [
      "124\n",
      "Number is even\n"
     ]
    }
   ],
   "source": [
    "# B.2\n",
    "num=int(input())\n",
    "if num%2==0:\n",
    "    print('Number is even')\n",
    "else:\n",
    "    print('Number is odd')"
   ]
  },
  {
   "cell_type": "code",
   "execution_count": 16,
   "id": "8d69f2b4",
   "metadata": {},
   "outputs": [
    {
     "name": "stdout",
     "output_type": "stream",
     "text": [
      "2\n",
      "3\n",
      "3\n"
     ]
    }
   ],
   "source": [
    "# B.3\n",
    "num1=int(input())\n",
    "num2=int(input())\n",
    "if num1>num2:\n",
    "    print(num1)\n",
    "else:\n",
    "    print(num2)"
   ]
  },
  {
   "cell_type": "code",
   "execution_count": 18,
   "id": "874b59ba",
   "metadata": {},
   "outputs": [
    {
     "name": "stdout",
     "output_type": "stream",
     "text": [
      "Hello\n",
      "hELLO\n"
     ]
    }
   ],
   "source": [
    "# B.4\n",
    "char=input()\n",
    "new=''\n",
    "for i in char:\n",
    "    if i.isupper():\n",
    "        new+=i.lower()\n",
    "    else:\n",
    "        new+=i.upper()\n",
    "print(new)"
   ]
  },
  {
   "cell_type": "code",
   "execution_count": 19,
   "id": "4728833e",
   "metadata": {},
   "outputs": [
    {
     "name": "stdout",
     "output_type": "stream",
     "text": [
      "2020\n",
      "Leap year\n"
     ]
    }
   ],
   "source": [
    "# B.5\n",
    "year=int(input())\n",
    "if year%100==0 and year%400==0:\n",
    "    print('Leap year')\n",
    "else:\n",
    "    if year%4==0 and year%100!=0:\n",
    "        print('Leap year')\n",
    "    else:\n",
    "        print('Not a leap year')"
   ]
  },
  {
   "cell_type": "code",
   "execution_count": 20,
   "id": "ae85ca33",
   "metadata": {},
   "outputs": [
    {
     "name": "stdout",
     "output_type": "stream",
     "text": [
      "5\n",
      "6\n"
     ]
    }
   ],
   "source": [
    "# B.6\n",
    "num=int(input())\n",
    "if num>0:\n",
    "    num+=1\n",
    "elif num<0:\n",
    "    num-=1\n",
    "else:\n",
    "    pass\n",
    "print(num)"
   ]
  },
  {
   "cell_type": "code",
   "execution_count": 22,
   "id": "ee5f400a",
   "metadata": {},
   "outputs": [
    {
     "name": "stdout",
     "output_type": "stream",
     "text": [
      "5\n",
      "2\n",
      "*\n",
      "5 * 2 = 10\n"
     ]
    }
   ],
   "source": [
    "# B.7\n",
    "num1=int(input())\n",
    "num2=int(input())\n",
    "operand=input()\n",
    "ans=0\n",
    "if operand=='+':\n",
    "    ans=num1+num2\n",
    "elif operand=='-':\n",
    "    ans=num1-num2\n",
    "elif operand=='*':\n",
    "    ans=num1*num2\n",
    "elif operand=='/':\n",
    "    if num2!=0:\n",
    "        ans=num1/num2\n",
    "    else:\n",
    "        print('Cant divide by zero')\n",
    "else:\n",
    "    print('Operation not supported')\n",
    "print(num1,operand,num2,'=',ans)"
   ]
  },
  {
   "cell_type": "code",
   "execution_count": 24,
   "id": "1ba8f4e4",
   "metadata": {},
   "outputs": [
    {
     "name": "stdout",
     "output_type": "stream",
     "text": [
      "100\n",
      "S\n"
     ]
    }
   ],
   "source": [
    "# B.8\n",
    "marks=int(input())\n",
    "grade=''\n",
    "if marks==100:\n",
    "    grade='S'\n",
    "elif marks>90 and marks<100:\n",
    "    grade='A'\n",
    "elif marks>80 and marks<90:\n",
    "    grade='B'\n",
    "elif marks>70 and marks<80:\n",
    "    grade='C'\n",
    "elif marks>60 and marks<70:\n",
    "    grade='D'\n",
    "elif marks>50 and marks<60:\n",
    "    grade='E'\n",
    "else:\n",
    "    grade='F'\n",
    "print(grade)"
   ]
  },
  {
   "cell_type": "code",
   "execution_count": 25,
   "id": "4b3fc729",
   "metadata": {},
   "outputs": [
    {
     "name": "stdout",
     "output_type": "stream",
     "text": [
      "9\n",
      "5\n",
      "7\n",
      "9\n"
     ]
    }
   ],
   "source": [
    "# B.9\n",
    "num1=int(input())\n",
    "num2=int(input())\n",
    "num3=int(input())\n",
    "if num1>num2 and num1>num3:\n",
    "    print(num1)\n",
    "elif num2>num1 and num2>num3:\n",
    "    print(num2)\n",
    "else:\n",
    "    print(num3)"
   ]
  },
  {
   "cell_type": "code",
   "execution_count": 26,
   "id": "a4933ca5",
   "metadata": {},
   "outputs": [
    {
     "name": "stdout",
     "output_type": "stream",
     "text": [
      "569\n",
      "digit\n"
     ]
    }
   ],
   "source": [
    "# B.10\n",
    "char=input()\n",
    "if char.isupper():\n",
    "    print('uppercase')\n",
    "elif char.islower():\n",
    "    print('lowercase')\n",
    "elif char.isdigit():\n",
    "    print('digit')"
   ]
  },
  {
   "cell_type": "code",
   "execution_count": null,
   "id": "d26133e9",
   "metadata": {},
   "outputs": [],
   "source": []
  },
  {
   "cell_type": "code",
   "execution_count": 27,
   "id": "676151e8",
   "metadata": {},
   "outputs": [
    {
     "name": "stdout",
     "output_type": "stream",
     "text": [
      "2\n",
      "Even\n"
     ]
    }
   ],
   "source": [
    "# C.1\n",
    "num=int(input())\n",
    "if num%2==0:\n",
    "    print('Even')\n",
    "else:\n",
    "    print('Odd')"
   ]
  },
  {
   "cell_type": "code",
   "execution_count": 28,
   "id": "21eb16d7",
   "metadata": {},
   "outputs": [
    {
     "name": "stdout",
     "output_type": "stream",
     "text": [
      "26\n",
      "25\n",
      "26\n"
     ]
    }
   ],
   "source": [
    "# C.2\n",
    "num1=int(input())\n",
    "num2=int(input())\n",
    "if num1>num2:\n",
    "    print(num1)\n",
    "else:\n",
    "    print(num2)"
   ]
  },
  {
   "cell_type": "code",
   "execution_count": 30,
   "id": "1b763d00",
   "metadata": {},
   "outputs": [
    {
     "name": "stdout",
     "output_type": "stream",
     "text": [
      "HellO\n",
      "hELLo\n"
     ]
    }
   ],
   "source": [
    "# C.3\n",
    "char=input()\n",
    "new=''\n",
    "for i in char:\n",
    "    if i.isupper():\n",
    "        new+=i.lower()\n",
    "    else:\n",
    "        new+=i.upper()\n",
    "print(new)"
   ]
  },
  {
   "cell_type": "code",
   "execution_count": 31,
   "id": "e90d8e5b",
   "metadata": {},
   "outputs": [
    {
     "name": "stdout",
     "output_type": "stream",
     "text": [
      "35\n",
      "Divisible by both 5 and 7\n"
     ]
    }
   ],
   "source": [
    "# C.4\n",
    "num=int(input())\n",
    "if num%5==0 and num%7==0:\n",
    "    print('Divisible by both 5 and 7')\n",
    "else:\n",
    "    print('Not Divisible by both 5 and 7')"
   ]
  },
  {
   "cell_type": "code",
   "execution_count": 32,
   "id": "49fd956b",
   "metadata": {},
   "outputs": [
    {
     "name": "stdout",
     "output_type": "stream",
     "text": [
      "1900\n",
      "Not a leap year\n"
     ]
    }
   ],
   "source": [
    "# C.5\n",
    "year=int(input())\n",
    "if year%100==0 and year%400==0:\n",
    "    print('Leap year')\n",
    "else:\n",
    "    if year%4==0 and year%100!=0:\n",
    "        print('Leap year')\n",
    "    else:\n",
    "        print('Not a leap year')"
   ]
  },
  {
   "cell_type": "code",
   "execution_count": 33,
   "id": "258d7caf",
   "metadata": {},
   "outputs": [
    {
     "name": "stdout",
     "output_type": "stream",
     "text": [
      "6\n",
      "9\n",
      "5\n",
      "Scalene triangle\n"
     ]
    }
   ],
   "source": [
    "# C.6\n",
    "a=int(input())\n",
    "b=int(input())\n",
    "c=int(input())\n",
    "if a==b and b==c and c==a:\n",
    "    print('Equilateral triangle')\n",
    "elif a==b or b==c or c==a:\n",
    "    print('Isosceles triangle')\n",
    "elif a!=b and a!=c and b!=c:\n",
    "    print('Scalene triangle')\n",
    "else:\n",
    "    print('None of the above')"
   ]
  },
  {
   "cell_type": "code",
   "execution_count": 34,
   "id": "8db58107",
   "metadata": {},
   "outputs": [
    {
     "name": "stdout",
     "output_type": "stream",
     "text": [
      "3\n",
      "4\n",
      "5\n",
      "Right angled triangle\n"
     ]
    }
   ],
   "source": [
    "# C.7\n",
    "a=int(input())\n",
    "b=int(input())\n",
    "c=int(input())\n",
    "if (c**2)==(a**2)+(b**2):\n",
    "    print('Right angled triangle')\n",
    "else:\n",
    "    print('Not Right angled triangle')"
   ]
  },
  {
   "cell_type": "code",
   "execution_count": 35,
   "id": "e6c1e935",
   "metadata": {},
   "outputs": [
    {
     "name": "stdout",
     "output_type": "stream",
     "text": [
      "5\n",
      "6\n"
     ]
    }
   ],
   "source": [
    "# C.8\n",
    "num=int(input())\n",
    "if num>0:\n",
    "    num+=1\n",
    "elif num<0:\n",
    "    num-=1\n",
    "else:\n",
    "    pass\n",
    "print(num)"
   ]
  },
  {
   "cell_type": "code",
   "execution_count": 37,
   "id": "6a06a796",
   "metadata": {},
   "outputs": [
    {
     "name": "stdout",
     "output_type": "stream",
     "text": [
      "5\n",
      "9\n",
      "/\n",
      "5 / 9 = 0.5555555555555556\n"
     ]
    }
   ],
   "source": [
    "# C.9\n",
    "num1=int(input())\n",
    "num2=int(input())\n",
    "operand=input()\n",
    "ans=0\n",
    "if operand=='+':\n",
    "    ans=num1+num2\n",
    "elif operand=='-':\n",
    "    ans=num1-num2\n",
    "elif operand=='*':\n",
    "    ans=num1*num2\n",
    "elif operand=='/':\n",
    "    if num2!=0:\n",
    "        ans=num1/num2\n",
    "    else:\n",
    "        print('Cant divide by zero')\n",
    "else:\n",
    "    print('Operation not supported')\n",
    "print(num1,operand,num2,'=',ans)"
   ]
  },
  {
   "cell_type": "code",
   "execution_count": 39,
   "id": "3fed0b23",
   "metadata": {},
   "outputs": [
    {
     "name": "stdout",
     "output_type": "stream",
     "text": [
      "100\n",
      "S\n"
     ]
    }
   ],
   "source": [
    "# C.10\n",
    "marks=int(input())\n",
    "grade=''\n",
    "if marks==100:\n",
    "    grade='S'\n",
    "elif marks>90 and marks<100:\n",
    "    grade='A'\n",
    "elif marks>80 and marks<90:\n",
    "    grade='B'\n",
    "elif marks>70 and marks<80:\n",
    "    grade='C'\n",
    "elif marks>60 and marks<70:\n",
    "    grade='D'\n",
    "elif marks>50 and marks<60:\n",
    "    grade='E'\n",
    "else:\n",
    "    grade='F'\n",
    "print(grade)"
   ]
  },
  {
   "cell_type": "code",
   "execution_count": 40,
   "id": "76b6e717",
   "metadata": {},
   "outputs": [
    {
     "name": "stdout",
     "output_type": "stream",
     "text": [
      "HEY\n",
      "uppercase\n"
     ]
    }
   ],
   "source": [
    "# C.11\n",
    "char=input()\n",
    "if char.isupper():\n",
    "    print('uppercase')\n",
    "elif char.islower():\n",
    "    print('lowercase')\n",
    "elif char.isdigit():\n",
    "    print('digit')"
   ]
  },
  {
   "cell_type": "code",
   "execution_count": 41,
   "id": "0cb3b8f4",
   "metadata": {},
   "outputs": [
    {
     "name": "stdout",
     "output_type": "stream",
     "text": [
      "6\n",
      "9\n",
      "8\n",
      "9\n"
     ]
    }
   ],
   "source": [
    "# C.12\n",
    "num1=int(input())\n",
    "num2=int(input())\n",
    "num3=int(input())\n",
    "if num1>num2 and num1>num3:\n",
    "    print(num1)\n",
    "elif num2>num1 and num2>num3:\n",
    "    print(num2)\n",
    "else:\n",
    "    print(num3)"
   ]
  },
  {
   "cell_type": "code",
   "execution_count": 7,
   "id": "66b90b8d",
   "metadata": {},
   "outputs": [
    {
     "name": "stdout",
     "output_type": "stream",
     "text": [
      "5\n",
      "int\n"
     ]
    }
   ],
   "source": [
    "# C.13\n",
    "inp=eval(input())\n",
    "chr_type=type(inp)\n",
    "chr_type=str(chr_type)\n",
    "print(chr_type[8:-2])"
   ]
  },
  {
   "cell_type": "code",
   "execution_count": null,
   "id": "043ad733",
   "metadata": {},
   "outputs": [],
   "source": []
  },
  {
   "cell_type": "code",
   "execution_count": 42,
   "id": "b2940051",
   "metadata": {},
   "outputs": [
    {
     "name": "stdout",
     "output_type": "stream",
     "text": [
      "5\n",
      "2\n",
      "25\n"
     ]
    }
   ],
   "source": [
    "# D.1\n",
    "num=int(input())\n",
    "power=int(input())\n",
    "count=0\n",
    "ans=1\n",
    "while count<power:\n",
    "    ans*=num\n",
    "    count+=1\n",
    "print(ans)"
   ]
  },
  {
   "cell_type": "code",
   "execution_count": 43,
   "id": "ed39128a",
   "metadata": {},
   "outputs": [
    {
     "name": "stdout",
     "output_type": "stream",
     "text": [
      "12\n",
      "15\n",
      "16\n",
      "18\n",
      "20\n",
      "21\n",
      "24\n",
      "27\n",
      "28\n",
      "30\n",
      "32\n",
      "33\n",
      "36\n",
      "39\n",
      "40\n",
      "42\n",
      "44\n",
      "45\n",
      "48\n",
      "51\n",
      "52\n",
      "54\n",
      "56\n",
      "57\n",
      "60\n",
      "63\n",
      "64\n",
      "66\n",
      "68\n",
      "69\n",
      "72\n",
      "75\n",
      "76\n",
      "78\n",
      "80\n",
      "81\n",
      "84\n",
      "87\n",
      "88\n",
      "90\n",
      "92\n",
      "93\n",
      "96\n",
      "99\n"
     ]
    }
   ],
   "source": [
    "# D.2\n",
    "num=10\n",
    "while num>9 and num<100:\n",
    "    if num%3==0 or num%4==0:\n",
    "        print(num)\n",
    "    num+=1"
   ]
  },
  {
   "cell_type": "code",
   "execution_count": 47,
   "id": "7fe32616",
   "metadata": {},
   "outputs": [
    {
     "name": "stdout",
     "output_type": "stream",
     "text": [
      "234\n",
      "9\n"
     ]
    }
   ],
   "source": [
    "# D.3\n",
    "num=int(input())\n",
    "sums=0\n",
    "while num>0:\n",
    "    a=num%10\n",
    "    num=num//10\n",
    "    sums+=a\n",
    "print(sums)"
   ]
  },
  {
   "cell_type": "code",
   "execution_count": 51,
   "id": "689540a5",
   "metadata": {},
   "outputs": [
    {
     "name": "stdout",
     "output_type": "stream",
     "text": [
      "7\n",
      "14\n",
      "2\n"
     ]
    }
   ],
   "source": [
    "# D.4\n",
    "divisor=int(input())\n",
    "dividend=int(input())\n",
    "quo=0\n",
    "while True:\n",
    "    if dividend>=divisor:\n",
    "        dividend-=divisor\n",
    "        quo+=1\n",
    "    else:\n",
    "        print(quo)\n",
    "        break"
   ]
  },
  {
   "cell_type": "code",
   "execution_count": 49,
   "id": "d79614f3",
   "metadata": {},
   "outputs": [
    {
     "name": "stdout",
     "output_type": "stream",
     "text": [
      "7\n",
      "Palindrome\n"
     ]
    }
   ],
   "source": [
    "# D.5\n",
    "num=int(input())\n",
    "copy=num\n",
    "rev_num=0\n",
    "while num>0:\n",
    "    rem=num%10\n",
    "    rev_num=rev_num*10+rem\n",
    "    num=num//10\n",
    "if copy==rev_num:\n",
    "    print('Palindrome')\n",
    "else:\n",
    "    print('Not Palindrome')"
   ]
  },
  {
   "cell_type": "code",
   "execution_count": 52,
   "id": "8996ccfb",
   "metadata": {},
   "outputs": [
    {
     "name": "stdout",
     "output_type": "stream",
     "text": [
      "153\n",
      "Armstrong number\n"
     ]
    }
   ],
   "source": [
    "# D.6\n",
    "num=int(input())\n",
    "pow=len(str(num))\n",
    "copy=num\n",
    "sum=0\n",
    "while num>0:\n",
    "    a=num%10\n",
    "    sum+=a**pow\n",
    "    num=num//10\n",
    "if copy==sum:\n",
    "    print('Armstrong number')\n",
    "else:\n",
    "    print('Not Armstrong number')"
   ]
  },
  {
   "cell_type": "code",
   "execution_count": 53,
   "id": "0cb7a63d",
   "metadata": {},
   "outputs": [
    {
     "name": "stdout",
     "output_type": "stream",
     "text": [
      "25\n",
      "56\n",
      "1\n"
     ]
    }
   ],
   "source": [
    "# D.7\n",
    "num1=int(input())\n",
    "num2=int(input())\n",
    "while num2:\n",
    "    num1,num2=num2,num1%num2\n",
    "print(num1)"
   ]
  },
  {
   "cell_type": "code",
   "execution_count": 54,
   "id": "f6bbafbe",
   "metadata": {},
   "outputs": [
    {
     "name": "stdout",
     "output_type": "stream",
     "text": [
      "press 'q' to quit\n",
      "2\n",
      "press 'q' to quit\n",
      "6\n",
      "press 'q' to quit\n",
      "7\n",
      "press 'q' to quit\n",
      "9\n",
      "press 'q' to quit\n",
      "q\n",
      "12.0\n",
      "756\n"
     ]
    }
   ],
   "source": [
    "# D.8\n",
    "sums=0\n",
    "prod=1\n",
    "while True:\n",
    "    print('press \\'q\\' to quit')\n",
    "    inp=input()\n",
    "    if inp=='q':\n",
    "        break\n",
    "    else:\n",
    "        sums+=int(inp)\n",
    "        prod*=int(inp)\n",
    "avg=sums/len(str(sums))\n",
    "print(avg)\n",
    "print(prod)"
   ]
  },
  {
   "cell_type": "code",
   "execution_count": 55,
   "id": "781b8898",
   "metadata": {},
   "outputs": [
    {
     "name": "stdout",
     "output_type": "stream",
     "text": [
      "25\n",
      "0.1\n",
      "5.0\n"
     ]
    }
   ],
   "source": [
    "# D.9\n",
    "num=int(input())\n",
    "accuracy=float(input())\n",
    "x=num\n",
    "while True:\n",
    "    root=0.5*(x+(num/x))\n",
    "    if abs(root-x)<accuracy:\n",
    "        break\n",
    "    else:\n",
    "        x=root\n",
    "sq_root=round(root,len(str(accuracy))-2)\n",
    "print(sq_root)"
   ]
  },
  {
   "cell_type": "code",
   "execution_count": null,
   "id": "7ec2e91c",
   "metadata": {},
   "outputs": [],
   "source": []
  },
  {
   "cell_type": "code",
   "execution_count": 2,
   "id": "5c2be4e1",
   "metadata": {},
   "outputs": [
    {
     "name": "stdout",
     "output_type": "stream",
     "text": [
      "* \n",
      "* * \n",
      "* * * \n",
      "* * * * \n",
      "* * * * * \n",
      "* * * * \n",
      "* * * \n",
      "* * \n",
      "* \n"
     ]
    }
   ],
   "source": [
    "# E.1a\n",
    "for i in range(1,6):\n",
    "    for j in range(i):\n",
    "        print('*',end=' ')\n",
    "    print()\n",
    "for i in range(4,0,-1):\n",
    "    for j in range(i):\n",
    "        print('*',end=' ')\n",
    "    print()"
   ]
  },
  {
   "cell_type": "code",
   "execution_count": 12,
   "id": "6bd2770f",
   "metadata": {},
   "outputs": [
    {
     "name": "stdout",
     "output_type": "stream",
     "text": [
      "1 \n",
      "2 1 \n",
      "3 2 1 \n",
      "4 3 2 1 \n",
      "5 4 3 2 1 \n"
     ]
    }
   ],
   "source": [
    "# E.1b\n",
    "for i in range(1,6):\n",
    "    num=i\n",
    "    for j in range(i):\n",
    "        print(num-j,end=' ')\n",
    "    print()"
   ]
  },
  {
   "cell_type": "code",
   "execution_count": 16,
   "id": "160e3792",
   "metadata": {},
   "outputs": [
    {
     "name": "stdout",
     "output_type": "stream",
     "text": [
      "      1 \n",
      "     1 1 \n",
      "    1 2 1 \n",
      "   1 3 3 1 \n",
      "  1 4 6 4 1 \n",
      " 1 5 10 10 5 1 \n",
      "1 6 15 20 15 6 1 \n"
     ]
    }
   ],
   "source": [
    "# E.1c\n",
    "for i in range(1,8):\n",
    "    for j in range(7-i):\n",
    "        print(end=' ')\n",
    "    x=1\n",
    "    for j in range(1,i+1):\n",
    "        print(x,end=' ')\n",
    "        x=x*(i-j)//j\n",
    "    print()"
   ]
  },
  {
   "cell_type": "code",
   "execution_count": 18,
   "id": "abbac5a8",
   "metadata": {},
   "outputs": [
    {
     "name": "stdout",
     "output_type": "stream",
     "text": [
      "hello\n",
      "olleh\n"
     ]
    }
   ],
   "source": [
    "# E.2\n",
    "word=input()\n",
    "rev=''\n",
    "for i in range(len(word),0,-1):\n",
    "    rev+=word[i-1]\n",
    "print(rev)"
   ]
  },
  {
   "cell_type": "code",
   "execution_count": 56,
   "id": "0e2d0f1c",
   "metadata": {},
   "outputs": [
    {
     "name": "stdout",
     "output_type": "stream",
     "text": [
      "4\n",
      "5\n"
     ]
    }
   ],
   "source": [
    "# E.3\n",
    "numbers=(1,2,3,4,5,6,7,8,9)\n",
    "evencount=0\n",
    "oddcount=0\n",
    "for i in numbers:\n",
    "    if i%2==0:\n",
    "        evencount+=1\n",
    "    else:\n",
    "        oddcount+=1\n",
    "print(evencount)\n",
    "print(oddcount)"
   ]
  },
  {
   "cell_type": "code",
   "execution_count": 19,
   "id": "38400d01",
   "metadata": {},
   "outputs": [
    {
     "name": "stdout",
     "output_type": "stream",
     "text": [
      "<class 'int'>\n",
      "<class 'float'>\n",
      "<class 'complex'>\n",
      "<class 'bool'>\n",
      "<class 'str'>\n",
      "<class 'tuple'>\n",
      "<class 'list'>\n",
      "<class 'dict'>\n"
     ]
    }
   ],
   "source": [
    "# E.4\n",
    "datalist=[1452,11.23,1+2j,True,'w3resource',(0,-1),[5,12],{'class':'V','section':'A'}]\n",
    "for i in datalist:\n",
    "    print(type(i))"
   ]
  },
  {
   "cell_type": "code",
   "execution_count": 57,
   "id": "1af94f27",
   "metadata": {},
   "outputs": [
    {
     "name": "stdout",
     "output_type": "stream",
     "text": [
      "0\n",
      "1\n",
      "2\n",
      "4\n",
      "5\n"
     ]
    }
   ],
   "source": [
    "# E.5\n",
    "for i in range(7):\n",
    "    if i==3 or i==6:\n",
    "        continue\n",
    "    else:\n",
    "        print(i)"
   ]
  },
  {
   "cell_type": "code",
   "execution_count": 61,
   "id": "925adb35",
   "metadata": {},
   "outputs": [
    {
     "name": "stdout",
     "output_type": "stream",
     "text": [
      "1\n",
      "2\n",
      "Fizz\n",
      "4\n",
      "Buzz\n",
      "Fizz\n",
      "7\n",
      "8\n",
      "Fizz\n",
      "Buzz\n",
      "11\n",
      "Fizz\n",
      "13\n",
      "14\n",
      "FizzBuzz\n",
      "16\n",
      "17\n",
      "Fizz\n",
      "19\n",
      "Buzz\n",
      "Fizz\n",
      "22\n",
      "23\n",
      "Fizz\n",
      "Buzz\n",
      "26\n",
      "Fizz\n",
      "28\n",
      "29\n",
      "FizzBuzz\n",
      "31\n",
      "32\n",
      "Fizz\n",
      "34\n",
      "Buzz\n",
      "Fizz\n",
      "37\n",
      "38\n",
      "Fizz\n",
      "Buzz\n",
      "41\n",
      "Fizz\n",
      "43\n",
      "44\n",
      "FizzBuzz\n",
      "46\n",
      "47\n",
      "Fizz\n",
      "49\n",
      "Buzz\n"
     ]
    }
   ],
   "source": [
    "# E.6\n",
    "for i in range (1,51):\n",
    "    if i%3==0 and i%5!=0:\n",
    "        print('Fizz')\n",
    "    elif i%3!=0 and i%5==0:\n",
    "        print('Buzz')\n",
    "    elif i%3==0 and i%5==0:\n",
    "        print('FizzBuzz')\n",
    "    else:\n",
    "        print(i)"
   ]
  },
  {
   "cell_type": "code",
   "execution_count": 62,
   "id": "f8216207",
   "metadata": {},
   "outputs": [
    {
     "name": "stdout",
     "output_type": "stream",
     "text": [
      "200\n",
      "202\n",
      "204\n",
      "206\n",
      "208\n",
      "220\n",
      "222\n",
      "224\n",
      "226\n",
      "228\n",
      "240\n",
      "242\n",
      "244\n",
      "246\n",
      "248\n",
      "260\n",
      "262\n",
      "264\n",
      "266\n",
      "268\n",
      "280\n",
      "282\n",
      "284\n",
      "286\n",
      "288\n",
      "400\n"
     ]
    }
   ],
   "source": [
    "# E.7\n",
    "for i in range(100,401):\n",
    "    count=0\n",
    "    num=i\n",
    "    while num>0:\n",
    "        rem=num%10\n",
    "        num=num//10\n",
    "        if rem%2==0:\n",
    "            count+=1\n",
    "    if count==3:\n",
    "        print(i)"
   ]
  },
  {
   "cell_type": "code",
   "execution_count": 64,
   "id": "cf7126ac",
   "metadata": {},
   "outputs": [
    {
     "name": "stdout",
     "output_type": "stream",
     "text": [
      "10\n",
      "10 x 1 = 10\n",
      "10 x 2 = 20\n",
      "10 x 3 = 30\n",
      "10 x 4 = 40\n",
      "10 x 5 = 50\n",
      "10 x 6 = 60\n",
      "10 x 7 = 70\n",
      "10 x 8 = 80\n",
      "10 x 9 = 90\n",
      "10 x 10 = 100\n"
     ]
    }
   ],
   "source": [
    "# E.8\n",
    "num=int(input())\n",
    "for i in range (1,num+1):\n",
    "    print (num, 'x', i, '=', num*i)"
   ]
  },
  {
   "cell_type": "code",
   "execution_count": 65,
   "id": "6a965141",
   "metadata": {},
   "outputs": [
    {
     "name": "stdout",
     "output_type": "stream",
     "text": [
      "5\n",
      "2.283333333333333\n"
     ]
    }
   ],
   "source": [
    "# E.9a\n",
    "n=int(input())\n",
    "sum=0\n",
    "for i in range (1,n+1):\n",
    "    sum+=1/(i)\n",
    "print (sum)"
   ]
  },
  {
   "cell_type": "code",
   "execution_count": 66,
   "id": "7c0e8073",
   "metadata": {},
   "outputs": [
    {
     "name": "stdout",
     "output_type": "stream",
     "text": [
      "5\n",
      "2\n",
      "8.533333333333333\n"
     ]
    }
   ],
   "source": [
    "# E.9b\n",
    "n=int(input())\n",
    "x=int(input())\n",
    "sum=0\n",
    "temp=0\n",
    "for i in range (1,n+1):\n",
    "    sum+=(x**temp)/(i)\n",
    "    temp=i\n",
    "print (sum)"
   ]
  },
  {
   "cell_type": "code",
   "execution_count": 68,
   "id": "9addc6d0",
   "metadata": {},
   "outputs": [
    {
     "name": "stdout",
     "output_type": "stream",
     "text": [
      "23\n",
      "Prime number\n"
     ]
    }
   ],
   "source": [
    "# E.10\n",
    "num=int(input())\n",
    "count=0\n",
    "for i in range(2,num):\n",
    "    if num%i==0:\n",
    "        count=1\n",
    "if count==1:\n",
    "    print('Composite number')\n",
    "else:\n",
    "    print('Prime number')"
   ]
  },
  {
   "cell_type": "code",
   "execution_count": null,
   "id": "c5669b48",
   "metadata": {},
   "outputs": [],
   "source": []
  }
 ],
 "metadata": {
  "kernelspec": {
   "display_name": "Python 3 (ipykernel)",
   "language": "python",
   "name": "python3"
  },
  "language_info": {
   "codemirror_mode": {
    "name": "ipython",
    "version": 3
   },
   "file_extension": ".py",
   "mimetype": "text/x-python",
   "name": "python",
   "nbconvert_exporter": "python",
   "pygments_lexer": "ipython3",
   "version": "3.9.0"
  }
 },
 "nbformat": 4,
 "nbformat_minor": 5
}
