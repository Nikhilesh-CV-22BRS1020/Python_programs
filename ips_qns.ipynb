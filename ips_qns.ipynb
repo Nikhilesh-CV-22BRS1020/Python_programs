{
 "cells": [
  {
   "cell_type": "code",
   "execution_count": 79,
   "id": "8c1ecd40",
   "metadata": {},
   "outputs": [
    {
     "name": "stdout",
     "output_type": "stream",
     "text": [
      "153\n",
      "1\n",
      "370\n",
      "112\n",
      "-1\n",
      "AmstrongCount is 3\n",
      "NonAmstrongCount is 1\n",
      "Nikhilesh C V \n",
      " 22BRS1020\n"
     ]
    }
   ],
   "source": [
    "#pat1 batch2\n",
    "inp=int(input())\n",
    "#initializing variables\n",
    "AmstrongCount=0\n",
    "NonAmstrongCount=0\n",
    "#getting input till -1 encounter\n",
    "while inp!=-1:\n",
    "    sum=0\n",
    "    num=inp\n",
    "    #sum of (num to the power of no.of digits)\n",
    "    while num>0:\n",
    "        a=num%10\n",
    "        sum+=a**len(str(inp))\n",
    "        num=num//10\n",
    "    #checking armstrong or not\n",
    "    if inp==sum:\n",
    "        AmstrongCount+=1\n",
    "    else:\n",
    "        NonAmstrongCount+=1\n",
    "    inp=int(input())\n",
    "print('AmstrongCount is',AmstrongCount)\n",
    "print('NonAmstrongCount is',NonAmstrongCount)\n",
    "print('Nikhilesh C V \\n 22BRS1020')"
   ]
  },
  {
   "cell_type": "code",
   "execution_count": 80,
   "id": "e8ccab3c",
   "metadata": {},
   "outputs": [
    {
     "name": "stdout",
     "output_type": "stream",
     "text": [
      "45\n",
      "-1\n",
      "primecount is 0\n",
      "compositecount is 1\n",
      "Nikhilesh C V \n",
      " 22BRS1020\n"
     ]
    }
   ],
   "source": [
    "#pat1 batch1\n",
    "inp=int(input())\n",
    "PrimeCount=0\n",
    "CompositeCount=0\n",
    "while inp!=-1:\n",
    "    #checking if the number is div by any num before it\n",
    "    for i in range(2,inp):\n",
    "        if inp%i==0:\n",
    "            cc=1\n",
    "            break\n",
    "    if cc==1:\n",
    "        CompositeCount+=1\n",
    "    else:\n",
    "        PrimeCount+=1\n",
    "    inp=int(input())\n",
    "print('primecount is',PrimeCount)\n",
    "print('compositecount is',CompositeCount)\n",
    "print('Nikhilesh C V \\n 22BRS1020')"
   ]
  },
  {
   "cell_type": "code",
   "execution_count": 81,
   "id": "7ba0c4e9",
   "metadata": {},
   "outputs": [
    {
     "name": "stdout",
     "output_type": "stream",
     "text": [
      "-9\n",
      "-5\n",
      "-95\n",
      "-1\n",
      "-5\n",
      "Nikhilesh C V \n",
      " 22BRS1020\n"
     ]
    }
   ],
   "source": [
    "#list ips batch1\n",
    "lis=[]\n",
    "for i in range(4):\n",
    "    num=int(input())\n",
    "    lis.append(num)\n",
    "#removing first largest element\n",
    "for i in range(lis.count(max(lis))):\n",
    "    lis.remove(max(lis)) \n",
    "print(max(lis))\n",
    "print('Nikhilesh C V \\n 22BRS1020')"
   ]
  },
  {
   "cell_type": "code",
   "execution_count": 82,
   "id": "e19d3e3d",
   "metadata": {},
   "outputs": [
    {
     "name": "stdout",
     "output_type": "stream",
     "text": [
      "100\n",
      "[1, 7, 10, 13, 19, 23, 28, 31, 32, 44, 49, 68, 70, 79, 82, 86, 91, 94, 97, 100]\n",
      "Nikhilesh C V \n",
      " 22BRS1020\n"
     ]
    }
   ],
   "source": [
    "#list ips2\n",
    "num=int(input())\n",
    "lis=[]\n",
    "#iteration from 1 to input num\n",
    "for i in range(1,num+1):\n",
    "    n=i\n",
    "    while True:\n",
    "        s=0\n",
    "        # sum of sq of nos\n",
    "        while n>0:\n",
    "            b=n%10\n",
    "            n=n//10\n",
    "            s+=b**2\n",
    "        if s>10 or s==10:\n",
    "            n=s\n",
    "            continue\n",
    "        else:\n",
    "            break\n",
    "    # if num is happy num then append\n",
    "    if s==1:\n",
    "        lis.append(i)\n",
    "            \n",
    "print(lis)\n",
    "print('Nikhilesh C V \\n 22BRS1020')"
   ]
  },
  {
   "cell_type": "code",
   "execution_count": 83,
   "id": "3eb4f173",
   "metadata": {},
   "outputs": [
    {
     "name": "stdout",
     "output_type": "stream",
     "text": [
      "6\n",
      "21\n",
      "271\n",
      "Nikhilesh C V \n",
      " 22BRS1020\n"
     ]
    }
   ],
   "source": [
    "#IPS for functions and default values\n",
    "def bill(hour,mins):\n",
    "    cost=0\n",
    "    # if hours is in multiple of 5 cost is 200 per 5hr\n",
    "    if hour%5==0:\n",
    "        cost= 200*(hour//5)+mins\n",
    "    # if not multiple of 5,reduce the num to multiple of 5 and add cost\n",
    "    else:\n",
    "        hr5=hour//5\n",
    "        hr1=hour%5\n",
    "        cost= 200*hr5 + 50*hr1 +mins\n",
    "    return cost\n",
    "hr=int(input())\n",
    "mins=int(input())\n",
    "print(bill(hr,mins))\n",
    "print('Nikhilesh C V \\n 22BRS1020')"
   ]
  },
  {
   "cell_type": "code",
   "execution_count": 85,
   "id": "eb44809d",
   "metadata": {},
   "outputs": [
    {
     "name": "stdout",
     "output_type": "stream",
     "text": [
      "6\n",
      "96\n",
      "69\n",
      "59\n",
      "84\n",
      "6\n",
      "\n",
      "True\n",
      "Nikhilesh C V \n",
      " 22BRS1020\n"
     ]
    }
   ],
   "source": [
    "#IPS for functions\n",
    "def first_last6(lis):\n",
    "    if len(lis)>=1:\n",
    "        # if first and last num is 6 means true\n",
    "        if lis[0]==6 or lis[-1]==6:\n",
    "            return True\n",
    "        else:\n",
    "            return False\n",
    "list1=[]\n",
    "# input num till blank space or non int\n",
    "while True:\n",
    "    try:\n",
    "        inp=int(input())\n",
    "        list1.append(inp)\n",
    "    except:\n",
    "        break\n",
    "print(first_last6(list1))\n",
    "print('Nikhilesh C V \\n 22BRS1020')"
   ]
  },
  {
   "cell_type": "code",
   "execution_count": 86,
   "id": "009d4a5f",
   "metadata": {},
   "outputs": [
    {
     "name": "stdout",
     "output_type": "stream",
     "text": [
      "3\n",
      "1\n",
      "66\n",
      "2\n",
      "55\n",
      "3\n",
      "99\n",
      "1\n",
      "Key existing\n",
      "Nikhilesh C V \n",
      " 22BRS1020\n"
     ]
    }
   ],
   "source": [
    "#IPS for Dictionary\n",
    "n=int(input())\n",
    "dict1={}\n",
    "#getting every input as str and hence search for a value as str too\n",
    "for i in range(n):\n",
    "    key=input()\n",
    "    value=input()\n",
    "    dict1[key]=value\n",
    "search=input()\n",
    "srchcount=0\n",
    "# checking if given key is present or not\n",
    "for i in dict1:\n",
    "    if search==i:\n",
    "        print('Key existing')\n",
    "        srchcount=1\n",
    "if srchcount!=1:\n",
    "    print('Key not existing')\n",
    "print('Nikhilesh C V \\n 22BRS1020')"
   ]
  },
  {
   "cell_type": "code",
   "execution_count": 95,
   "id": "29a44368",
   "metadata": {
    "scrolled": true
   },
   "outputs": [
    {
     "name": "stdout",
     "output_type": "stream",
     "text": [
      "st1\n",
      "25\n",
      "st2\n",
      "30\n",
      "st3\n",
      "27\n",
      "st4\n",
      "25\n",
      "st5\n",
      "25\n",
      "st6\n",
      "30\n",
      "st7\n",
      "27\n",
      "st8\n",
      "19\n",
      "st9\n",
      "25\n",
      "st10\n",
      "27\n",
      "st11\n",
      "25\n",
      "st12\n",
      "20\n",
      "sr13\n",
      "25\n",
      "st14\n",
      "26\n",
      "st15\n",
      "16\n",
      "27\n",
      "3\n",
      "{27: ['st3', 'st7', 'st10']}\n",
      "Nikhilesh C V \n",
      " 22BRS1020\n"
     ]
    }
   ],
   "source": [
    "#PAT2-Class1\n",
    "dict1={}\n",
    "# getting 15 inputs\n",
    "for i in range(15):\n",
    "    key=input()\n",
    "    value=int(input())\n",
    "    dict1[key]=value\n",
    "search=input()\n",
    "# if search val is there, then find no.of states and states with similar district count\n",
    "for i in dict1:\n",
    "    if i==search:\n",
    "        print(dict1[search])\n",
    "        count=0\n",
    "        lis=[]\n",
    "        temp={}\n",
    "        for j in dict1:\n",
    "            if dict1[search]==dict1[j]:\n",
    "                count+=1\n",
    "                lis.append(j)\n",
    "        temp[dict1[search]]=lis\n",
    "print(count)\n",
    "print(temp)\n",
    "print('Nikhilesh C V \\n 22BRS1020')"
   ]
  },
  {
   "cell_type": "code",
   "execution_count": 87,
   "id": "3aea61ff",
   "metadata": {},
   "outputs": [
    {
     "name": "stdout",
     "output_type": "stream",
     "text": [
      "1\n",
      "5\n",
      "6\n",
      "8\n",
      "4\n",
      "\n",
      "['odd', 5, 6, 'even', 4]\n",
      "odd= 1\n",
      "oddpositionlist= [0]\n",
      "even= 1\n",
      "evenpositionlist= [3]\n",
      "Nikhilesh C V \n",
      " 22BRS1020\n"
     ]
    }
   ],
   "source": [
    "#PAT2-Class2\n",
    "list1=[]\n",
    "# get input till non int\n",
    "while True:\n",
    "    try:\n",
    "        inp=int(input())\n",
    "        list1.append(inp)\n",
    "    except:\n",
    "        break\n",
    "# if even num in even pos then replace num with word even and similarly for odd\n",
    "for i in range(len(list1)):\n",
    "    if (i+1)%2==0 and list1[i]%2==0:\n",
    "        list1[i]='even'\n",
    "    elif (i+1)%2!=0 and list1[i]%2!=0:\n",
    "        list1[i]='odd'\n",
    "print(list1)\n",
    "print('odd=',list1.count('odd'))\n",
    "oddpositionlist=[]\n",
    "evenpositionlist=[]\n",
    "# position of odd or even words\n",
    "for i in range(len(list1)):\n",
    "    if list1[i]=='odd':\n",
    "        oddpositionlist.append(i)\n",
    "    elif list1[i]=='even':\n",
    "        evenpositionlist.append(i)\n",
    "print('oddpositionlist=',oddpositionlist)\n",
    "print('even=',list1.count('even'))\n",
    "print('evenpositionlist=',evenpositionlist)\n",
    "print('Nikhilesh C V \\n 22BRS1020')"
   ]
  },
  {
   "cell_type": "code",
   "execution_count": 88,
   "id": "456a8692",
   "metadata": {},
   "outputs": [
    {
     "name": "stdout",
     "output_type": "stream",
     "text": [
      "madam\n",
      "5\n",
      "palindrome\n",
      "Nikhilesh C V \n",
      " 22BRS1020\n"
     ]
    }
   ],
   "source": [
    "#IPS for Strings\n",
    "string=input()\n",
    "print(len(string))\n",
    "# if rev of string is same as input then its palindrome\n",
    "if string[::-1]==string:\n",
    "    print('palindrome')\n",
    "else:\n",
    "    print('not palindrome')\n",
    "print('Nikhilesh C V \\n 22BRS1020')"
   ]
  },
  {
   "cell_type": "code",
   "execution_count": 89,
   "id": "f7e476b8",
   "metadata": {},
   "outputs": [
    {
     "name": "stdout",
     "output_type": "stream",
     "text": [
      "HaL\n",
      "2\n",
      "JcN\n",
      "Happy Hot String\n",
      "Nikhilesh C V \n",
      " 22BRS1020\n"
     ]
    }
   ],
   "source": [
    "#PAT3-Class2\n",
    "'''print(ord('e'))\n",
    "print(chr(101))'''\n",
    "inp=input()\n",
    "rot=int(input())\n",
    "def rotate_word(word,rot):\n",
    "    # making all letters to similar case\n",
    "    temp=word.upper()\n",
    "    newstr=''\n",
    "    # rotating word wrt given number and subtract 26 if ascii value gets more than 90 (captial Z)\n",
    "    for i in temp:\n",
    "        asci=ord(i)+rot\n",
    "        if asci>90:\n",
    "            asci=asci-26\n",
    "        newstr+=chr(asci)\n",
    "    newstr=[i for i in newstr]\n",
    "    word=[i for i in word]\n",
    "    # changing case similar to input \n",
    "    for i in range(len(word)):\n",
    "        if word[i].isupper():\n",
    "            newstr[i]=newstr[i].upper()\n",
    "        else:\n",
    "            newstr[i]=newstr[i].lower()\n",
    "    \n",
    "    newstr=''.join(newstr)\n",
    "    return newstr\n",
    "output=rotate_word(inp,rot)\n",
    "print(output)\n",
    "vowel='AEIOUaeiou'\n",
    "# if first and last chr is a vowel\n",
    "if output[0] in vowel and output[-1] in vowel:\n",
    "    print('Happy Cool String')\n",
    "else:\n",
    "    print('Happy Hot String')\n",
    "print('Nikhilesh C V \\n 22BRS1020')"
   ]
  },
  {
   "cell_type": "code",
   "execution_count": 90,
   "id": "817d4b75",
   "metadata": {},
   "outputs": [
    {
     "name": "stdout",
     "output_type": "stream",
     "text": [
      "07-12-2022\n",
      "2022-DEC-07\n",
      "Format Corrected\n",
      "Nikhilesh C V \n",
      " 22BRS1020\n"
     ]
    }
   ],
   "source": [
    "import re\n",
    "# pattern condition for correct date format\n",
    "pattern=re.compile('^[0-9]+\\-+(JAN|FEB|MAR|APR|MAY|JUN|JLY|AUG|SEP|OCT|NOV|DEC)+\\-+[0-9]{2}$')\n",
    "date=input()\n",
    "if re.search(pattern,date):\n",
    "    print('Correct Format')\n",
    "# if not in correct format\n",
    "else:\n",
    "    new=''\n",
    "    dict1={1:'JAN',2:'FEB',3:'MAR',4:'APR',5:'MAY',6:'JUN',7:'JLY',8:'AUG',9:'SEP',10:'OCT',11:'NOV',12:'DEC'}\n",
    "    #rearranging to crt format \n",
    "    new+=date[6:]+'-'+ dict1[int(date[3:5])]+'-'+date[0:2]\n",
    "    print(new)\n",
    "    print('Format Corrected')\n",
    "print('Nikhilesh C V \\n 22BRS1020')"
   ]
  },
  {
   "cell_type": "code",
   "execution_count": 91,
   "id": "b00310e9",
   "metadata": {},
   "outputs": [
    {
     "name": "stdout",
     "output_type": "stream",
     "text": [
      "Krishnamurthy Vallidevi\n",
      "K.Vallidevi\n",
      "Nikhilesh C V \n",
      " 22BRS1020\n"
     ]
    }
   ],
   "source": [
    "#IPS for Strings Regular Expression\n",
    "import re\n",
    "name=input()\n",
    "# splitting if space occurs\n",
    "name=re.split('\\s',name)\n",
    "newname=''\n",
    "# replacing everyhting except last name to abbreviation\n",
    "for i in range(len(name)-1):\n",
    "        newname+=name[i][0]+'.'\n",
    "newname+=name[-1]\n",
    "print(newname)\n",
    "print('Nikhilesh C V \\n 22BRS1020')"
   ]
  },
  {
   "cell_type": "code",
   "execution_count": 92,
   "id": "1e68a9bf",
   "metadata": {},
   "outputs": [
    {
     "name": "stdout",
     "output_type": "stream",
     "text": [
      "ABC\n",
      "def\n",
      "Follows Pattern\n",
      "Nikhilesh C V \n",
      " 22BRS1020\n"
     ]
    }
   ],
   "source": [
    "#IPS for String Regular Expression\n",
    "import re\n",
    "# if 2 cap or 2 lower case chrs are together condition\n",
    "pattern=re.compile('([A-Z]{2}|[a-z]{2})')\n",
    "str1=input()\n",
    "str2=input()\n",
    "str3=''\n",
    "# mixmatching string1 and rev of string2 also considering if they differ in size\n",
    "try:\n",
    "    if len(str1)>len(str2):\n",
    "        for i in range(len(str1)):str3+=str1[i]+str2[-i-1]\n",
    "    else:\n",
    "        for i in range(len(str2)):str3+=str1[i]+str2[-i-1]\n",
    "except:\n",
    "    if len(str1)>len(str2):\n",
    "        str3+=str1[-1]\n",
    "    else:\n",
    "        str3+=str2[0]\n",
    "if re.search(pattern,str3):\n",
    "    print('Does Not Follow Any Pattern')\n",
    "else:\n",
    "    print('Follows Pattern')\n",
    "print('Nikhilesh C V \\n 22BRS1020')"
   ]
  },
  {
   "cell_type": "code",
   "execution_count": 94,
   "id": "148e31a5",
   "metadata": {},
   "outputs": [
    {
     "name": "stdout",
     "output_type": "stream",
     "text": [
      "5\n",
      "4\n",
      "2\n",
      "6\n",
      "88\n",
      "49\n",
      "126\n",
      "-1\n",
      "Four_Divisible_Count is 2\n",
      "Four_Not_Divisible_Count 5\n",
      "Nikhilesh C V \n",
      " 22BRS1020\n"
     ]
    }
   ],
   "source": [
    "#Practice Question for PAT1\n",
    "Four_Divisible_Count=0\n",
    "Four_Not_Divisible_Count=0\n",
    "#get input till -1 is encountered\n",
    "while True:\n",
    "    num=int(input())\n",
    "    if num==-1:\n",
    "        break\n",
    "    else:\n",
    "        #check if div by 4\n",
    "        if num%4==0:\n",
    "            Four_Divisible_Count+=1\n",
    "        else:\n",
    "            Four_Not_Divisible_Count+=1\n",
    "print('Four_Divisible_Count is',Four_Divisible_Count)\n",
    "print('Four_Not_Divisible_Count',Four_Not_Divisible_Count)\n",
    "print('Nikhilesh C V \\n 22BRS1020')"
   ]
  },
  {
   "cell_type": "code",
   "execution_count": null,
   "id": "f5785207",
   "metadata": {},
   "outputs": [],
   "source": []
  }
 ],
 "metadata": {
  "kernelspec": {
   "display_name": "Python 3 (ipykernel)",
   "language": "python",
   "name": "python3"
  },
  "language_info": {
   "codemirror_mode": {
    "name": "ipython",
    "version": 3
   },
   "file_extension": ".py",
   "mimetype": "text/x-python",
   "name": "python",
   "nbconvert_exporter": "python",
   "pygments_lexer": "ipython3",
   "version": "3.9.0"
  }
 },
 "nbformat": 4,
 "nbformat_minor": 5
}
